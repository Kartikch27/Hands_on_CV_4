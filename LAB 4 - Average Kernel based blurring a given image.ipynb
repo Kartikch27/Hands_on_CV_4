{
 "cells": [
  {
   "cell_type": "code",
   "execution_count": 1,
   "id": "311da66c",
   "metadata": {},
   "outputs": [],
   "source": [
    "import cv2\n",
    "import numpy as np"
   ]
  },
  {
   "cell_type": "code",
   "execution_count": 2,
   "id": "b64a42d8",
   "metadata": {},
   "outputs": [],
   "source": [
    "img = cv2.imread('demo_face.jpg')"
   ]
  },
  {
   "cell_type": "code",
   "execution_count": 3,
   "id": "ff4ea419",
   "metadata": {},
   "outputs": [],
   "source": [
    "kernel2 = np.ones((5, 5), np.float32) / 25"
   ]
  },
  {
   "cell_type": "code",
   "execution_count": 4,
   "id": "b06f5a14",
   "metadata": {},
   "outputs": [],
   "source": [
    "img2 = cv2.filter2D(src=img, ddepth=-1, kernel=kernel2)"
   ]
  },
  {
   "cell_type": "code",
   "execution_count": 5,
   "id": "6e899af0",
   "metadata": {},
   "outputs": [],
   "source": [
    "cv2.imshow('original', img)\n",
    "cv2.imshow('edge', img2)\n"
   ]
  },
  {
   "cell_type": "code",
   "execution_count": 6,
   "id": "4d515c2f",
   "metadata": {},
   "outputs": [],
   "source": [
    "cv2.waitKey(0)\n",
    "cv2.destroyAllWindows()"
   ]
  },
  {
   "cell_type": "code",
   "execution_count": null,
   "id": "e6d2c0a9",
   "metadata": {},
   "outputs": [],
   "source": []
  }
 ],
 "metadata": {
  "kernelspec": {
   "display_name": "Python 3 (ipykernel)",
   "language": "python",
   "name": "python3"
  },
  "language_info": {
   "codemirror_mode": {
    "name": "ipython",
    "version": 3
   },
   "file_extension": ".py",
   "mimetype": "text/x-python",
   "name": "python",
   "nbconvert_exporter": "python",
   "pygments_lexer": "ipython3",
   "version": "3.11.5"
  }
 },
 "nbformat": 4,
 "nbformat_minor": 5
}
